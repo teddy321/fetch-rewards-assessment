{
 "cells": [
  {
   "cell_type": "code",
   "execution_count": 1,
   "id": "ae86debc",
   "metadata": {},
   "outputs": [],
   "source": [
    "import pandas as pd\n",
    "import numpy as np\n",
    "import random\n",
    "import json\n",
    "import re\n",
    "import os\n",
    "\n",
    "from datetime import datetime"
   ]
  },
  {
   "cell_type": "markdown",
   "id": "165a5936",
   "metadata": {},
   "source": [
    "# IDENTIFY ALL JSON FILES"
   ]
  },
  {
   "cell_type": "code",
   "execution_count": 2,
   "id": "e8f5e4e7",
   "metadata": {},
   "outputs": [
    {
     "data": {
      "text/plain": [
       "['brands.json', 'receipts.json', 'users.json']"
      ]
     },
     "execution_count": 2,
     "metadata": {},
     "output_type": "execute_result"
    }
   ],
   "source": [
    "files = []\n",
    "\n",
    "for f in os.listdir():\n",
    "    if re.findall('.json', f) != []:\n",
    "        files.append(f)\n",
    "    else:\n",
    "        pass\n",
    "\n",
    "files"
   ]
  },
  {
   "cell_type": "markdown",
   "id": "47fe0020",
   "metadata": {},
   "source": [
    "# DEFINE FUNCTIONS"
   ]
  },
  {
   "cell_type": "code",
   "execution_count": 3,
   "id": "c6cdf7f3",
   "metadata": {},
   "outputs": [],
   "source": [
    "def high_lvl_check(df):\n",
    "    print(f'There are {len(df[df._id.duplicated()])} duplicate records under \"_id\"')\n",
    "    print(f'There are {len(df[df._id.isnull()])} records with missing/null values under \"_id\" field')\n",
    "    print(f'There are {len(df[df.isnull().any(axis=1)])} records with missing/null values under any field')\n",
    "    \n",
    "    multi_dtypes = 0\n",
    "    \n",
    "    for c in df.columns:\n",
    "        \n",
    "        df_subset = df[~df[c].isnull()].reset_index(drop=True)\n",
    "        \n",
    "        dtypes = []\n",
    "        \n",
    "        for i in list(range(len(df_subset))):\n",
    "            dtypes.append(type(df_subset[c][i]))\n",
    "            \n",
    "        if len(list(set(dtypes))) > 1:\n",
    "            multi_dtypes += 1\n",
    "            print(f'Column \"{c}\" contains {list(set(dtypes))} dtypes')\n",
    "            \n",
    "    if multi_dtypes == 0:\n",
    "        print('All fields contain consistent data types')"
   ]
  },
  {
   "cell_type": "code",
   "execution_count": 35,
   "id": "6a1567c5",
   "metadata": {},
   "outputs": [],
   "source": [
    "def common_cols(df1, df2):\n",
    "    \n",
    "    c1 = df1.columns.tolist()\n",
    "    c2 = df2.columns.tolist()\n",
    "    \n",
    "    return [c for c in c1 if c in c2 and c != '_id']"
   ]
  },
  {
   "cell_type": "markdown",
   "id": "cc80dd95",
   "metadata": {},
   "source": [
    "# ANALYZE brands.json FILE"
   ]
  },
  {
   "cell_type": "code",
   "execution_count": 4,
   "id": "1fccdb74",
   "metadata": {},
   "outputs": [
    {
     "data": {
      "text/html": [
       "<div>\n",
       "<style scoped>\n",
       "    .dataframe tbody tr th:only-of-type {\n",
       "        vertical-align: middle;\n",
       "    }\n",
       "\n",
       "    .dataframe tbody tr th {\n",
       "        vertical-align: top;\n",
       "    }\n",
       "\n",
       "    .dataframe thead th {\n",
       "        text-align: right;\n",
       "    }\n",
       "</style>\n",
       "<table border=\"1\" class=\"dataframe\">\n",
       "  <thead>\n",
       "    <tr style=\"text-align: right;\">\n",
       "      <th></th>\n",
       "      <th>_id</th>\n",
       "      <th>barcode</th>\n",
       "      <th>category</th>\n",
       "      <th>categoryCode</th>\n",
       "      <th>cpg</th>\n",
       "      <th>name</th>\n",
       "      <th>topBrand</th>\n",
       "      <th>brandCode</th>\n",
       "    </tr>\n",
       "  </thead>\n",
       "  <tbody>\n",
       "    <tr>\n",
       "      <th>0</th>\n",
       "      <td>{'$oid': '601ac115be37ce2ead437551'}</td>\n",
       "      <td>511111019862</td>\n",
       "      <td>Baking</td>\n",
       "      <td>BAKING</td>\n",
       "      <td>{'$id': {'$oid': '601ac114be37ce2ead437550'}, ...</td>\n",
       "      <td>test brand @1612366101024</td>\n",
       "      <td>0.0</td>\n",
       "      <td>NaN</td>\n",
       "    </tr>\n",
       "    <tr>\n",
       "      <th>1</th>\n",
       "      <td>{'$oid': '601c5460be37ce2ead43755f'}</td>\n",
       "      <td>511111519928</td>\n",
       "      <td>Beverages</td>\n",
       "      <td>BEVERAGES</td>\n",
       "      <td>{'$id': {'$oid': '5332f5fbe4b03c9a25efd0ba'}, ...</td>\n",
       "      <td>Starbucks</td>\n",
       "      <td>0.0</td>\n",
       "      <td>STARBUCKS</td>\n",
       "    </tr>\n",
       "    <tr>\n",
       "      <th>2</th>\n",
       "      <td>{'$oid': '601ac142be37ce2ead43755d'}</td>\n",
       "      <td>511111819905</td>\n",
       "      <td>Baking</td>\n",
       "      <td>BAKING</td>\n",
       "      <td>{'$id': {'$oid': '601ac142be37ce2ead437559'}, ...</td>\n",
       "      <td>test brand @1612366146176</td>\n",
       "      <td>0.0</td>\n",
       "      <td>TEST BRANDCODE @1612366146176</td>\n",
       "    </tr>\n",
       "  </tbody>\n",
       "</table>\n",
       "</div>"
      ],
      "text/plain": [
       "                                    _id       barcode   category categoryCode  \\\n",
       "0  {'$oid': '601ac115be37ce2ead437551'}  511111019862     Baking       BAKING   \n",
       "1  {'$oid': '601c5460be37ce2ead43755f'}  511111519928  Beverages    BEVERAGES   \n",
       "2  {'$oid': '601ac142be37ce2ead43755d'}  511111819905     Baking       BAKING   \n",
       "\n",
       "                                                 cpg  \\\n",
       "0  {'$id': {'$oid': '601ac114be37ce2ead437550'}, ...   \n",
       "1  {'$id': {'$oid': '5332f5fbe4b03c9a25efd0ba'}, ...   \n",
       "2  {'$id': {'$oid': '601ac142be37ce2ead437559'}, ...   \n",
       "\n",
       "                        name  topBrand                      brandCode  \n",
       "0  test brand @1612366101024       0.0                            NaN  \n",
       "1                  Starbucks       0.0                      STARBUCKS  \n",
       "2  test brand @1612366146176       0.0  TEST BRANDCODE @1612366146176  "
      ]
     },
     "execution_count": 4,
     "metadata": {},
     "output_type": "execute_result"
    }
   ],
   "source": [
    "# READ + VIEW DATASTRUCTURE\n",
    "df_brands = pd.read_json('brands.json', lines=True)\n",
    "df_brands.head(3)"
   ]
  },
  {
   "cell_type": "code",
   "execution_count": 5,
   "id": "e46efc73",
   "metadata": {},
   "outputs": [
    {
     "name": "stdout",
     "output_type": "stream",
     "text": [
      "There are 0 duplicate records under \"_id\"\n",
      "There are 0 records with missing/null values under \"_id\" field\n",
      "There are 912 records with missing/null values under any field\n",
      "All fields contain consistent data types\n"
     ]
    }
   ],
   "source": [
    "high_lvl_check(df_brands)"
   ]
  },
  {
   "cell_type": "markdown",
   "id": "39f695be",
   "metadata": {},
   "source": [
    "# ANALYZE receipts.json FILE"
   ]
  },
  {
   "cell_type": "code",
   "execution_count": 6,
   "id": "975d35d5",
   "metadata": {},
   "outputs": [
    {
     "data": {
      "text/html": [
       "<div>\n",
       "<style scoped>\n",
       "    .dataframe tbody tr th:only-of-type {\n",
       "        vertical-align: middle;\n",
       "    }\n",
       "\n",
       "    .dataframe tbody tr th {\n",
       "        vertical-align: top;\n",
       "    }\n",
       "\n",
       "    .dataframe thead th {\n",
       "        text-align: right;\n",
       "    }\n",
       "</style>\n",
       "<table border=\"1\" class=\"dataframe\">\n",
       "  <thead>\n",
       "    <tr style=\"text-align: right;\">\n",
       "      <th></th>\n",
       "      <th>_id</th>\n",
       "      <th>bonusPointsEarned</th>\n",
       "      <th>bonusPointsEarnedReason</th>\n",
       "      <th>createDate</th>\n",
       "      <th>dateScanned</th>\n",
       "      <th>finishedDate</th>\n",
       "      <th>modifyDate</th>\n",
       "      <th>pointsAwardedDate</th>\n",
       "      <th>pointsEarned</th>\n",
       "      <th>purchaseDate</th>\n",
       "      <th>purchasedItemCount</th>\n",
       "      <th>rewardsReceiptItemList</th>\n",
       "      <th>rewardsReceiptStatus</th>\n",
       "      <th>totalSpent</th>\n",
       "      <th>userId</th>\n",
       "    </tr>\n",
       "  </thead>\n",
       "  <tbody>\n",
       "    <tr>\n",
       "      <th>0</th>\n",
       "      <td>{'$oid': '5ff1e1eb0a720f0523000575'}</td>\n",
       "      <td>500.0</td>\n",
       "      <td>Receipt number 2 completed, bonus point schedu...</td>\n",
       "      <td>{'$date': 1609687531000}</td>\n",
       "      <td>{'$date': 1609687531000}</td>\n",
       "      <td>{'$date': 1609687531000}</td>\n",
       "      <td>{'$date': 1609687536000}</td>\n",
       "      <td>{'$date': 1609687531000}</td>\n",
       "      <td>500.0</td>\n",
       "      <td>{'$date': 1609632000000}</td>\n",
       "      <td>5.0</td>\n",
       "      <td>[{'barcode': '4011', 'description': 'ITEM NOT ...</td>\n",
       "      <td>FINISHED</td>\n",
       "      <td>26.0</td>\n",
       "      <td>5ff1e1eacfcf6c399c274ae6</td>\n",
       "    </tr>\n",
       "    <tr>\n",
       "      <th>1</th>\n",
       "      <td>{'$oid': '5ff1e1bb0a720f052300056b'}</td>\n",
       "      <td>150.0</td>\n",
       "      <td>Receipt number 5 completed, bonus point schedu...</td>\n",
       "      <td>{'$date': 1609687483000}</td>\n",
       "      <td>{'$date': 1609687483000}</td>\n",
       "      <td>{'$date': 1609687483000}</td>\n",
       "      <td>{'$date': 1609687488000}</td>\n",
       "      <td>{'$date': 1609687483000}</td>\n",
       "      <td>150.0</td>\n",
       "      <td>{'$date': 1609601083000}</td>\n",
       "      <td>2.0</td>\n",
       "      <td>[{'barcode': '4011', 'description': 'ITEM NOT ...</td>\n",
       "      <td>FINISHED</td>\n",
       "      <td>11.0</td>\n",
       "      <td>5ff1e194b6a9d73a3a9f1052</td>\n",
       "    </tr>\n",
       "    <tr>\n",
       "      <th>2</th>\n",
       "      <td>{'$oid': '5ff1e1f10a720f052300057a'}</td>\n",
       "      <td>5.0</td>\n",
       "      <td>All-receipts receipt bonus</td>\n",
       "      <td>{'$date': 1609687537000}</td>\n",
       "      <td>{'$date': 1609687537000}</td>\n",
       "      <td>NaN</td>\n",
       "      <td>{'$date': 1609687542000}</td>\n",
       "      <td>NaN</td>\n",
       "      <td>5.0</td>\n",
       "      <td>{'$date': 1609632000000}</td>\n",
       "      <td>1.0</td>\n",
       "      <td>[{'needsFetchReview': False, 'partnerItemId': ...</td>\n",
       "      <td>REJECTED</td>\n",
       "      <td>10.0</td>\n",
       "      <td>5ff1e1f1cfcf6c399c274b0b</td>\n",
       "    </tr>\n",
       "  </tbody>\n",
       "</table>\n",
       "</div>"
      ],
      "text/plain": [
       "                                    _id  bonusPointsEarned  \\\n",
       "0  {'$oid': '5ff1e1eb0a720f0523000575'}              500.0   \n",
       "1  {'$oid': '5ff1e1bb0a720f052300056b'}              150.0   \n",
       "2  {'$oid': '5ff1e1f10a720f052300057a'}                5.0   \n",
       "\n",
       "                             bonusPointsEarnedReason  \\\n",
       "0  Receipt number 2 completed, bonus point schedu...   \n",
       "1  Receipt number 5 completed, bonus point schedu...   \n",
       "2                         All-receipts receipt bonus   \n",
       "\n",
       "                 createDate               dateScanned  \\\n",
       "0  {'$date': 1609687531000}  {'$date': 1609687531000}   \n",
       "1  {'$date': 1609687483000}  {'$date': 1609687483000}   \n",
       "2  {'$date': 1609687537000}  {'$date': 1609687537000}   \n",
       "\n",
       "               finishedDate                modifyDate  \\\n",
       "0  {'$date': 1609687531000}  {'$date': 1609687536000}   \n",
       "1  {'$date': 1609687483000}  {'$date': 1609687488000}   \n",
       "2                       NaN  {'$date': 1609687542000}   \n",
       "\n",
       "          pointsAwardedDate  pointsEarned              purchaseDate  \\\n",
       "0  {'$date': 1609687531000}         500.0  {'$date': 1609632000000}   \n",
       "1  {'$date': 1609687483000}         150.0  {'$date': 1609601083000}   \n",
       "2                       NaN           5.0  {'$date': 1609632000000}   \n",
       "\n",
       "   purchasedItemCount                             rewardsReceiptItemList  \\\n",
       "0                 5.0  [{'barcode': '4011', 'description': 'ITEM NOT ...   \n",
       "1                 2.0  [{'barcode': '4011', 'description': 'ITEM NOT ...   \n",
       "2                 1.0  [{'needsFetchReview': False, 'partnerItemId': ...   \n",
       "\n",
       "  rewardsReceiptStatus  totalSpent                    userId  \n",
       "0             FINISHED        26.0  5ff1e1eacfcf6c399c274ae6  \n",
       "1             FINISHED        11.0  5ff1e194b6a9d73a3a9f1052  \n",
       "2             REJECTED        10.0  5ff1e1f1cfcf6c399c274b0b  "
      ]
     },
     "execution_count": 6,
     "metadata": {},
     "output_type": "execute_result"
    }
   ],
   "source": [
    "# READ + VIEW DATASTRUCTURE\n",
    "df_receipts = pd.read_json('receipts.json', lines=True)\n",
    "df_receipts.head(3)"
   ]
  },
  {
   "cell_type": "code",
   "execution_count": 7,
   "id": "6ad0bf0d",
   "metadata": {},
   "outputs": [
    {
     "name": "stdout",
     "output_type": "stream",
     "text": [
      "There are 0 duplicate records under \"_id\"\n",
      "There are 0 records with missing/null values under \"_id\" field\n",
      "There are 665 records with missing/null values under any field\n",
      "All fields contain consistent data types\n"
     ]
    }
   ],
   "source": [
    "high_lvl_check(df_receipts)"
   ]
  },
  {
   "cell_type": "code",
   "execution_count": 8,
   "id": "3a6c611e",
   "metadata": {},
   "outputs": [
    {
     "data": {
      "text/html": [
       "<div>\n",
       "<style scoped>\n",
       "    .dataframe tbody tr th:only-of-type {\n",
       "        vertical-align: middle;\n",
       "    }\n",
       "\n",
       "    .dataframe tbody tr th {\n",
       "        vertical-align: top;\n",
       "    }\n",
       "\n",
       "    .dataframe thead th {\n",
       "        text-align: right;\n",
       "    }\n",
       "</style>\n",
       "<table border=\"1\" class=\"dataframe\">\n",
       "  <thead>\n",
       "    <tr style=\"text-align: right;\">\n",
       "      <th></th>\n",
       "      <th>_id</th>\n",
       "      <th>rewardsReceiptItemList</th>\n",
       "    </tr>\n",
       "  </thead>\n",
       "  <tbody>\n",
       "    <tr>\n",
       "      <th>0</th>\n",
       "      <td>{'$oid': '5ff1e1eb0a720f0523000575'}</td>\n",
       "      <td>[{'barcode': '4011', 'description': 'ITEM NOT ...</td>\n",
       "    </tr>\n",
       "    <tr>\n",
       "      <th>1</th>\n",
       "      <td>{'$oid': '5ff1e1bb0a720f052300056b'}</td>\n",
       "      <td>[{'barcode': '4011', 'description': 'ITEM NOT ...</td>\n",
       "    </tr>\n",
       "    <tr>\n",
       "      <th>2</th>\n",
       "      <td>{'$oid': '5ff1e1f10a720f052300057a'}</td>\n",
       "      <td>[{'needsFetchReview': False, 'partnerItemId': ...</td>\n",
       "    </tr>\n",
       "    <tr>\n",
       "      <th>3</th>\n",
       "      <td>{'$oid': '5ff1e1ee0a7214ada100056f'}</td>\n",
       "      <td>[{'barcode': '4011', 'description': 'ITEM NOT ...</td>\n",
       "    </tr>\n",
       "    <tr>\n",
       "      <th>4</th>\n",
       "      <td>{'$oid': '5ff1e1d20a7214ada1000561'}</td>\n",
       "      <td>[{'barcode': '4011', 'description': 'ITEM NOT ...</td>\n",
       "    </tr>\n",
       "    <tr>\n",
       "      <th>...</th>\n",
       "      <td>...</td>\n",
       "      <td>...</td>\n",
       "    </tr>\n",
       "    <tr>\n",
       "      <th>1114</th>\n",
       "      <td>{'$oid': '603cc0630a720fde100003e6'}</td>\n",
       "      <td>[{'barcode': 'B076FJ92M4', 'description': 'mue...</td>\n",
       "    </tr>\n",
       "    <tr>\n",
       "      <th>1115</th>\n",
       "      <td>{'$oid': '603d0b710a720fde1000042a'}</td>\n",
       "      <td>NaN</td>\n",
       "    </tr>\n",
       "    <tr>\n",
       "      <th>1116</th>\n",
       "      <td>{'$oid': '603cf5290a720fde10000413'}</td>\n",
       "      <td>NaN</td>\n",
       "    </tr>\n",
       "    <tr>\n",
       "      <th>1117</th>\n",
       "      <td>{'$oid': '603ce7100a7217c72c000405'}</td>\n",
       "      <td>[{'barcode': 'B076FJ92M4', 'description': 'mue...</td>\n",
       "    </tr>\n",
       "    <tr>\n",
       "      <th>1118</th>\n",
       "      <td>{'$oid': '603c4fea0a7217c72c000389'}</td>\n",
       "      <td>NaN</td>\n",
       "    </tr>\n",
       "  </tbody>\n",
       "</table>\n",
       "<p>1119 rows × 2 columns</p>\n",
       "</div>"
      ],
      "text/plain": [
       "                                       _id  \\\n",
       "0     {'$oid': '5ff1e1eb0a720f0523000575'}   \n",
       "1     {'$oid': '5ff1e1bb0a720f052300056b'}   \n",
       "2     {'$oid': '5ff1e1f10a720f052300057a'}   \n",
       "3     {'$oid': '5ff1e1ee0a7214ada100056f'}   \n",
       "4     {'$oid': '5ff1e1d20a7214ada1000561'}   \n",
       "...                                    ...   \n",
       "1114  {'$oid': '603cc0630a720fde100003e6'}   \n",
       "1115  {'$oid': '603d0b710a720fde1000042a'}   \n",
       "1116  {'$oid': '603cf5290a720fde10000413'}   \n",
       "1117  {'$oid': '603ce7100a7217c72c000405'}   \n",
       "1118  {'$oid': '603c4fea0a7217c72c000389'}   \n",
       "\n",
       "                                 rewardsReceiptItemList  \n",
       "0     [{'barcode': '4011', 'description': 'ITEM NOT ...  \n",
       "1     [{'barcode': '4011', 'description': 'ITEM NOT ...  \n",
       "2     [{'needsFetchReview': False, 'partnerItemId': ...  \n",
       "3     [{'barcode': '4011', 'description': 'ITEM NOT ...  \n",
       "4     [{'barcode': '4011', 'description': 'ITEM NOT ...  \n",
       "...                                                 ...  \n",
       "1114  [{'barcode': 'B076FJ92M4', 'description': 'mue...  \n",
       "1115                                                NaN  \n",
       "1116                                                NaN  \n",
       "1117  [{'barcode': 'B076FJ92M4', 'description': 'mue...  \n",
       "1118                                                NaN  \n",
       "\n",
       "[1119 rows x 2 columns]"
      ]
     },
     "execution_count": 8,
     "metadata": {},
     "output_type": "execute_result"
    }
   ],
   "source": [
    "df_rewardsReceiptItemList = df_receipts[['_id', 'rewardsReceiptItemList']]\n",
    "df_rewardsReceiptItemList"
   ]
  },
  {
   "cell_type": "code",
   "execution_count": 9,
   "id": "9c81e331",
   "metadata": {},
   "outputs": [
    {
     "name": "stderr",
     "output_type": "stream",
     "text": [
      "C:\\Users\\teddy\\Envs\\main_env\\lib\\site-packages\\ipykernel_launcher.py:1: SettingWithCopyWarning: \n",
      "A value is trying to be set on a copy of a slice from a DataFrame.\n",
      "Try using .loc[row_indexer,col_indexer] = value instead\n",
      "\n",
      "See the caveats in the documentation: https://pandas.pydata.org/pandas-docs/stable/user_guide/indexing.html#returning-a-view-versus-a-copy\n",
      "  \"\"\"Entry point for launching an IPython kernel.\n"
     ]
    }
   ],
   "source": [
    "df_rewardsReceiptItemList['keys_ct'] = df_rewardsReceiptItemList.rewardsReceiptItemList.apply(lambda i: len(list(i[0].keys())) if isinstance(i, list) else 0)"
   ]
  },
  {
   "cell_type": "code",
   "execution_count": 10,
   "id": "1e75f390",
   "metadata": {},
   "outputs": [
    {
     "name": "stdout",
     "output_type": "stream",
     "text": [
      "For the receipts.json dataset, under the rewardsReceiptItemList field, some records have a max of 16 nested keys/fields, while some records have 0. See the distribution below: \n",
      "\n",
      " 0     440\n",
      "8     143\n",
      "11    132\n",
      "7      91\n",
      "6      84\n",
      "12     80\n",
      "9      68\n",
      "13     39\n",
      "14     20\n",
      "15     11\n",
      "16     10\n",
      "10      1\n",
      "Name: keys_ct, dtype: int64\n"
     ]
    }
   ],
   "source": [
    "print(f'For the receipts.json dataset, under the rewardsReceiptItemList field, some records have a max of {df_rewardsReceiptItemList.keys_ct.max()} nested keys/fields, while some records have {df_rewardsReceiptItemList.keys_ct.min()}. See the distribution below: \\n\\n {df_rewardsReceiptItemList.keys_ct.value_counts()}')"
   ]
  },
  {
   "cell_type": "code",
   "execution_count": 72,
   "id": "97b86dd9",
   "metadata": {},
   "outputs": [],
   "source": [
    "pct_with = round(len(df_rewardsReceiptItemList[df_rewardsReceiptItemList.keys_ct>0]) / len(df_rewardsReceiptItemList)*100, 0)\n",
    "pct_without = round(len(df_rewardsReceiptItemList[df_rewardsReceiptItemList.keys_ct==0]) / len(df_rewardsReceiptItemList)*100, 0)"
   ]
  },
  {
   "cell_type": "code",
   "execution_count": 75,
   "id": "6093ae8f",
   "metadata": {},
   "outputs": [
    {
     "name": "stdout",
     "output_type": "stream",
     "text": [
      "For receipts.json dataset, 61% of receipts have item level detail, 39% of receipts do not have item level detail\n"
     ]
    }
   ],
   "source": [
    "print(f'For receipts.json dataset, {int(pct_with)}% of receipts have item level detail, {int(pct_without)}% of receipts do not have item level detail')"
   ]
  },
  {
   "cell_type": "markdown",
   "id": "e1d51c74",
   "metadata": {},
   "source": [
    "# ANALYZE users .json FILE"
   ]
  },
  {
   "cell_type": "code",
   "execution_count": 11,
   "id": "5ce091c7",
   "metadata": {},
   "outputs": [
    {
     "data": {
      "text/html": [
       "<div>\n",
       "<style scoped>\n",
       "    .dataframe tbody tr th:only-of-type {\n",
       "        vertical-align: middle;\n",
       "    }\n",
       "\n",
       "    .dataframe tbody tr th {\n",
       "        vertical-align: top;\n",
       "    }\n",
       "\n",
       "    .dataframe thead th {\n",
       "        text-align: right;\n",
       "    }\n",
       "</style>\n",
       "<table border=\"1\" class=\"dataframe\">\n",
       "  <thead>\n",
       "    <tr style=\"text-align: right;\">\n",
       "      <th></th>\n",
       "      <th>_id</th>\n",
       "      <th>active</th>\n",
       "      <th>createdDate</th>\n",
       "      <th>lastLogin</th>\n",
       "      <th>role</th>\n",
       "      <th>signUpSource</th>\n",
       "      <th>state</th>\n",
       "    </tr>\n",
       "  </thead>\n",
       "  <tbody>\n",
       "    <tr>\n",
       "      <th>0</th>\n",
       "      <td>{'$oid': '5ff1e194b6a9d73a3a9f1052'}</td>\n",
       "      <td>True</td>\n",
       "      <td>{'$date': 1609687444800}</td>\n",
       "      <td>{'$date': 1609687537858}</td>\n",
       "      <td>consumer</td>\n",
       "      <td>Email</td>\n",
       "      <td>WI</td>\n",
       "    </tr>\n",
       "    <tr>\n",
       "      <th>1</th>\n",
       "      <td>{'$oid': '5ff1e194b6a9d73a3a9f1052'}</td>\n",
       "      <td>True</td>\n",
       "      <td>{'$date': 1609687444800}</td>\n",
       "      <td>{'$date': 1609687537858}</td>\n",
       "      <td>consumer</td>\n",
       "      <td>Email</td>\n",
       "      <td>WI</td>\n",
       "    </tr>\n",
       "    <tr>\n",
       "      <th>2</th>\n",
       "      <td>{'$oid': '5ff1e194b6a9d73a3a9f1052'}</td>\n",
       "      <td>True</td>\n",
       "      <td>{'$date': 1609687444800}</td>\n",
       "      <td>{'$date': 1609687537858}</td>\n",
       "      <td>consumer</td>\n",
       "      <td>Email</td>\n",
       "      <td>WI</td>\n",
       "    </tr>\n",
       "  </tbody>\n",
       "</table>\n",
       "</div>"
      ],
      "text/plain": [
       "                                    _id  active               createdDate  \\\n",
       "0  {'$oid': '5ff1e194b6a9d73a3a9f1052'}    True  {'$date': 1609687444800}   \n",
       "1  {'$oid': '5ff1e194b6a9d73a3a9f1052'}    True  {'$date': 1609687444800}   \n",
       "2  {'$oid': '5ff1e194b6a9d73a3a9f1052'}    True  {'$date': 1609687444800}   \n",
       "\n",
       "                  lastLogin      role signUpSource state  \n",
       "0  {'$date': 1609687537858}  consumer        Email    WI  \n",
       "1  {'$date': 1609687537858}  consumer        Email    WI  \n",
       "2  {'$date': 1609687537858}  consumer        Email    WI  "
      ]
     },
     "execution_count": 11,
     "metadata": {},
     "output_type": "execute_result"
    }
   ],
   "source": [
    "# READ + VIEW DATASTRUCTURE\n",
    "df_users = pd.read_json('users.json', lines=True)\n",
    "df_users.head(3)"
   ]
  },
  {
   "cell_type": "code",
   "execution_count": 12,
   "id": "44d8b1c6",
   "metadata": {},
   "outputs": [
    {
     "name": "stdout",
     "output_type": "stream",
     "text": [
      "There are 283 duplicate records under \"_id\"\n",
      "There are 0 records with missing/null values under \"_id\" field\n",
      "There are 131 records with missing/null values under any field\n",
      "All fields contain consistent data types\n"
     ]
    }
   ],
   "source": [
    "high_lvl_check(df_users)"
   ]
  },
  {
   "cell_type": "markdown",
   "id": "e12e6bea",
   "metadata": {},
   "source": [
    "# ANALYZE DATA FROM parse-files-to-csv.ipynb OUTPUTS "
   ]
  },
  {
   "cell_type": "code",
   "execution_count": 13,
   "id": "8c208b2b",
   "metadata": {},
   "outputs": [],
   "source": [
    "os.chdir('outputs')"
   ]
  },
  {
   "cell_type": "code",
   "execution_count": 15,
   "id": "2d025df0",
   "metadata": {},
   "outputs": [
    {
     "data": {
      "text/plain": [
       "['brands.csv', 'receipts.csv', 'receipts_v.csv', 'users.csv']"
      ]
     },
     "execution_count": 15,
     "metadata": {},
     "output_type": "execute_result"
    }
   ],
   "source": [
    "files = []\n",
    "\n",
    "for f in os.listdir():\n",
    "    if re.findall('.csv', f) != []:\n",
    "        files.append(f)\n",
    "    else:\n",
    "        pass\n",
    "files"
   ]
  },
  {
   "cell_type": "code",
   "execution_count": 17,
   "id": "d3936da5",
   "metadata": {},
   "outputs": [],
   "source": [
    "df_brands = pd.read_csv('brands.csv')"
   ]
  },
  {
   "cell_type": "code",
   "execution_count": 18,
   "id": "0e996b23",
   "metadata": {},
   "outputs": [],
   "source": [
    "df_receipts = pd.read_csv('receipts.csv')"
   ]
  },
  {
   "cell_type": "code",
   "execution_count": 19,
   "id": "cc9215b9",
   "metadata": {},
   "outputs": [],
   "source": [
    "df_receipts_v = pd.read_csv('receipts_v.csv')"
   ]
  },
  {
   "cell_type": "code",
   "execution_count": 20,
   "id": "8ef4cd20",
   "metadata": {},
   "outputs": [],
   "source": [
    "df_users = pd.read_csv('users.csv')"
   ]
  },
  {
   "cell_type": "code",
   "execution_count": 40,
   "id": "7d899f3d",
   "metadata": {},
   "outputs": [],
   "source": [
    "# CHECK MAPPING BETWEEN 'brands' and 'receipts'"
   ]
  },
  {
   "cell_type": "code",
   "execution_count": 42,
   "id": "66d56b96",
   "metadata": {},
   "outputs": [
    {
     "data": {
      "text/plain": [
       "[]"
      ]
     },
     "execution_count": 42,
     "metadata": {},
     "output_type": "execute_result"
    }
   ],
   "source": [
    "common_cols(df_brands, df_receipts)"
   ]
  },
  {
   "cell_type": "code",
   "execution_count": 43,
   "id": "a73fb1bf",
   "metadata": {},
   "outputs": [],
   "source": [
    "# CHECK MAPPING BETWEEN 'brands' and 'receipts_v'"
   ]
  },
  {
   "cell_type": "code",
   "execution_count": 44,
   "id": "ee421f14",
   "metadata": {},
   "outputs": [
    {
     "data": {
      "text/plain": [
       "['barcode', 'brandCode']"
      ]
     },
     "execution_count": 44,
     "metadata": {},
     "output_type": "execute_result"
    }
   ],
   "source": [
    "common_cols(df_brands, df_receipts_v)"
   ]
  },
  {
   "cell_type": "code",
   "execution_count": null,
   "id": "8c56251e",
   "metadata": {},
   "outputs": [],
   "source": [
    "# CHECK MAPPING BETWEEN 'brands' and 'users'"
   ]
  },
  {
   "cell_type": "code",
   "execution_count": 52,
   "id": "44fc2ed8",
   "metadata": {},
   "outputs": [
    {
     "data": {
      "text/plain": [
       "[]"
      ]
     },
     "execution_count": 52,
     "metadata": {},
     "output_type": "execute_result"
    }
   ],
   "source": [
    "common_cols(df_brands, df_users)"
   ]
  },
  {
   "cell_type": "code",
   "execution_count": 53,
   "id": "50d673e5",
   "metadata": {},
   "outputs": [],
   "source": [
    "# CHECK MAPPING BETWEEN 'df_receipts' and 'df_users'"
   ]
  },
  {
   "cell_type": "code",
   "execution_count": 54,
   "id": "73680229",
   "metadata": {},
   "outputs": [
    {
     "data": {
      "text/plain": [
       "[]"
      ]
     },
     "execution_count": 54,
     "metadata": {},
     "output_type": "execute_result"
    }
   ],
   "source": [
    "common_cols(df_receipts, df_users)"
   ]
  },
  {
   "cell_type": "code",
   "execution_count": null,
   "id": "f41decc9",
   "metadata": {},
   "outputs": [],
   "source": []
  },
  {
   "cell_type": "code",
   "execution_count": null,
   "id": "53bb9568",
   "metadata": {},
   "outputs": [],
   "source": []
  },
  {
   "cell_type": "code",
   "execution_count": null,
   "id": "6e80b3b9",
   "metadata": {},
   "outputs": [],
   "source": []
  },
  {
   "cell_type": "code",
   "execution_count": null,
   "id": "0ae255d5",
   "metadata": {},
   "outputs": [],
   "source": []
  },
  {
   "cell_type": "code",
   "execution_count": null,
   "id": "69cfc36b",
   "metadata": {},
   "outputs": [],
   "source": []
  },
  {
   "cell_type": "code",
   "execution_count": null,
   "id": "1f781989",
   "metadata": {},
   "outputs": [],
   "source": []
  }
 ],
 "metadata": {
  "kernelspec": {
   "display_name": "Python 3 (ipykernel)",
   "language": "python",
   "name": "python3"
  },
  "language_info": {
   "codemirror_mode": {
    "name": "ipython",
    "version": 3
   },
   "file_extension": ".py",
   "mimetype": "text/x-python",
   "name": "python",
   "nbconvert_exporter": "python",
   "pygments_lexer": "ipython3",
   "version": "3.7.3"
  }
 },
 "nbformat": 4,
 "nbformat_minor": 5
}
